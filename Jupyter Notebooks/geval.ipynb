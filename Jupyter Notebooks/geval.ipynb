{
 "cells": [
  {
   "cell_type": "code",
   "execution_count": null,
   "metadata": {
    "colab": {
     "base_uri": "https://localhost:8080/"
    },
    "executionInfo": {
     "elapsed": 4329,
     "status": "ok",
     "timestamp": 1747215078687,
     "user": {
      "displayName": "Sayantan Biswas",
      "userId": "07412370439615024534"
     },
     "user_tz": -330
    },
    "id": "CK8UES9QE0BS",
    "outputId": "216cd248-72db-4835-f0b8-98fa214b3239"
   },
   "outputs": [],
   "source": [
    "!pip install --upgrade opik openai\n"
   ]
  },
  {
   "cell_type": "code",
   "execution_count": null,
   "metadata": {
    "executionInfo": {
     "elapsed": 44,
     "status": "ok",
     "timestamp": 1747215366806,
     "user": {
      "displayName": "Sayantan Biswas",
      "userId": "07412370439615024534"
     },
     "user_tz": -330
    },
    "id": "05VPCH59JXm7"
   },
   "outputs": [],
   "source": [
    "import os"
   ]
  },
  {
   "cell_type": "code",
   "execution_count": null,
   "metadata": {
    "colab": {
     "base_uri": "https://localhost:8080/",
     "height": 1000
    },
    "executionInfo": {
     "elapsed": 2802,
     "status": "error",
     "timestamp": 1747215371983,
     "user": {
      "displayName": "Sayantan Biswas",
      "userId": "07412370439615024534"
     },
     "user_tz": -330
    },
    "id": "OvhLwxsHIG7l",
    "outputId": "68926250-4ab9-4533-dadb-9eb5ce05b2ea"
   },
   "outputs": [],
   "source": [
    "from opik.evaluation.metrics import GEval\n",
    "\n",
    "metric = GEval(\n",
    "    task_introduction=\"You are an expert judge tasked with evaluating the faithfulness of an AI-generated answer to the given context.\",\n",
    "    evaluation_criteria=\"In provided text the OUTPUT must not introduce new information beyond what's provided in the CONTEXT.\",\n",
    ")\n",
    "\n",
    "metric.score(\n",
    "    output=\"\"\"\n",
    "           OUTPUT: Paris is the capital of France.\n",
    "           CONTEXT: France is a country in Western Europe. Its capital is Paris, which is known for landmarks like the Eiffel Tower.\n",
    "           \"\"\"\n",
    ")\n"
   ]
  },
  {
   "cell_type": "code",
   "execution_count": null,
   "metadata": {
    "colab": {
     "base_uri": "https://localhost:8080/",
     "height": 388
    },
    "executionInfo": {
     "elapsed": 1948,
     "status": "error",
     "timestamp": 1747216940145,
     "user": {
      "displayName": "Sayantan Biswas",
      "userId": "07412370439615024534"
     },
     "user_tz": -330
    },
    "id": "QWC5L0IiE6-H",
    "outputId": "f01e11c1-2c16-4868-8960-4026e601555b"
   },
   "outputs": [],
   "source": [
    "\n",
    "from openai import OpenAI\n",
    "client = OpenAI()\n",
    "\n",
    "instructions = \"\"\"\n",
    "You are an expert in categorizing IT support tickets. Given the support\n",
    "ticket below, categorize the request into one of \"Hardware\", \"Software\",\n",
    "or \"Other\". Respond with only one of those words.\n",
    "\"\"\"\n",
    "\n",
    "ticket = \"My monitor won't turn on - help!\"\n",
    "\n",
    "completion = client.chat.completions.create(\n",
    "    model=\"gpt-4.1\",\n",
    "    messages=[\n",
    "        {\"role\": \"developer\", \"content\": instructions},\n",
    "        {\"role\": \"user\", \"content\": ticket}\n",
    "    ]\n",
    ")\n",
    "\n",
    "print(completion.choices[0].message.content)\n"
   ]
  }
 ],
 "metadata": {
  "colab": {
   "authorship_tag": "ABX9TyPqA4U+3LV8e9jvj3dbIiH6",
   "provenance": []
  },
  "kernelspec": {
   "display_name": "Python 3",
   "name": "python3"
  },
  "language_info": {
   "name": "python"
  }
 },
 "nbformat": 4,
 "nbformat_minor": 0
}
